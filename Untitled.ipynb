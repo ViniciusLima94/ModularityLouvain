{
 "cells": [
  {
   "cell_type": "code",
   "execution_count": 1,
   "id": "8fa1ae84-6557-42f4-a783-2313a24bd9fb",
   "metadata": {},
   "outputs": [],
   "source": [
    "%matplotlib inline\n",
    "import ctypes\n",
    "import brainconn         as bc\n",
    "import numpy             as np\n",
    "import xarray            as xr\n",
    "import numba             as nb\n",
    "import matplotlib.pyplot as plt\n",
    "from   tqdm              import tqdm"
   ]
  },
  {
   "cell_type": "code",
   "execution_count": 2,
   "id": "703bc2e6-b7cb-4c82-a93b-fd6af9dc740a",
   "metadata": {},
   "outputs": [],
   "source": [
    "_lv = ctypes.CDLL('./libcl.so')"
   ]
  },
  {
   "cell_type": "code",
   "execution_count": 3,
   "id": "3cda0664-929e-4bfc-aa1e-c67544072a02",
   "metadata": {},
   "outputs": [],
   "source": [
    "# (int n_nodes, float (**A), float gamma, int seed)\n",
    "_lv.modularity_louvain_und.argtypes = (ctypes.c_int, ctypes.POINTER(ctypes.POINTER(ctypes.c_float)), \n",
    "                                        ctypes.c_float,ctypes.c_int)\n",
    "_lv.modularity_louvain_und.restype  = ctypes.c_float"
   ]
  },
  {
   "cell_type": "code",
   "execution_count": 4,
   "id": "3189ad1b-ccd4-4d82-9dfd-c9167747d4c7",
   "metadata": {},
   "outputs": [],
   "source": [
    "def modularity_louvain(A, gamma, seed):\n",
    "    global _lv\n",
    "    A_copy  = np.array(A, dtype=np.float32).copy()\n",
    "    # Number of nodes\n",
    "    n_nodes = A_copy.shape[0]\n",
    "    # Converting matrix to pointer to pointer\n",
    "    UF32Ptr    = ctypes.POINTER(ctypes.c_float)\n",
    "    UF32PtrPtr = ctypes.POINTER(UF32Ptr)\n",
    "\n",
    "    ct_arr     = np.ctypeslib.as_ctypes(A_copy)\n",
    "    UF32PtrArr = UF32Ptr * ct_arr._length_\n",
    "    ct_ptr_A   = ctypes.cast(UF32PtrArr(*(ctypes.cast(row, UF32Ptr) for row in ct_arr)), UF32PtrPtr)\n",
    "    \n",
    "    # Call function\n",
    "    q = _lv.modularity_louvain_und(ctypes.c_int(n_nodes), ct_ptr_A, ctypes.c_float(gamma) ,ctypes.c_int(seed))\n",
    "    \n",
    "    return float(q)"
   ]
  },
  {
   "cell_type": "code",
   "execution_count": 5,
   "id": "279ca7b3-f71a-4153-ba72-01e0b9e91d57",
   "metadata": {},
   "outputs": [],
   "source": [
    "def _get_strogatz_graph(n=10,k=1,p_list=None,is_weighted=False, seed=0):\n",
    "    import networkx as nx\n",
    "    \n",
    "    assert isinstance(n, int)\n",
    "    assert isinstance(k, int)\n",
    "    assert isinstance(p_list, (list,np.ndarray,tuple))\n",
    "    assert isinstance(is_weighted, bool)\n",
    "    \n",
    "    A = []\n",
    "    for i, p in enumerate(p_list):\n",
    "        G   = nx.watts_strogatz_graph(n, k, p, seed=seed)\n",
    "        A  += [nx.adjacency_matrix(G).toarray()]\n",
    "    A = np.stack(A, axis=0)\n",
    "    A = xr.DataArray(A[:,:,:,np.newaxis], dims=(\"times\",\"roi_1\",\"roi_2\",\"trials\") )\n",
    "    A = A.transpose(\"roi_1\",\"roi_2\",\"trials\",\"times\")\n",
    "    if is_weighted:\n",
    "        W = np.random.uniform(0, 1, size=A.shape)\n",
    "        W = xr.DataArray( W, dims=(\"roi_1\",\"roi_2\",\"trials\",\"times\") )\n",
    "        A = W*A\n",
    "    return A"
   ]
  },
  {
   "cell_type": "code",
   "execution_count": 6,
   "id": "e9ebd256-27ba-43dd-8de2-e101bad58c7d",
   "metadata": {},
   "outputs": [],
   "source": [
    "p_list = np.linspace(0, 1, 100)\n",
    "A      = _get_strogatz_graph(n=100,k=10,p_list=p_list,is_weighted=False, seed=0)"
   ]
  },
  {
   "cell_type": "code",
   "execution_count": 7,
   "id": "51c7369f-a5eb-4f4c-aed8-da285472f1ce",
   "metadata": {},
   "outputs": [],
   "source": [
    "A      = A.isel(trials=0).values"
   ]
  },
  {
   "cell_type": "code",
   "execution_count": 8,
   "id": "8473ca08-7a01-4980-b7f4-4675d4a88100",
   "metadata": {},
   "outputs": [
    {
     "name": "stderr",
     "output_type": "stream",
     "text": [
      "100%|██████████| 100/100 [00:01<00:00, 67.11it/s]\n"
     ]
    }
   ],
   "source": [
    "m_c = []\n",
    "m_p = []\n",
    "for i in tqdm( range(A.shape[-1]) ):\n",
    "    m_c += [modularity_louvain(A[...,i], 1, 10)]\n",
    "    m_p += [bc.modularity.modularity_finetune_und(A[...,i])[1]]"
   ]
  },
  {
   "cell_type": "code",
   "execution_count": 9,
   "id": "6124f73e-8038-4b66-bb41-96e6a7cdaced",
   "metadata": {},
   "outputs": [
    {
     "data": {
      "text/plain": [
       "[<matplotlib.lines.Line2D at 0x7f92e15f2220>]"
      ]
     },
     "execution_count": 9,
     "metadata": {},
     "output_type": "execute_result"
    },
    {
     "data": {
      "image/png": "[encoded data removed]",
      "text/plain": [
       "<Figure size 432x288 with 1 Axes>"
      ]
     },
     "metadata": {
      "needs_background": "light"
     },
     "output_type": "display_data"
    }
   ],
   "source": [
    "plt.plot(p_list,m_c/np.max(m_c))\n",
    "plt.plot(p_list,m_p/np.max(m_p), '--')"
   ]
  },
  {
   "cell_type": "code",
   "execution_count": null,
   "id": "11133db1-83a9-4514-8043-49cbe8f4ee53",
   "metadata": {},
   "outputs": [],
   "source": []
  },
  {
   "cell_type": "code",
   "execution_count": null,
   "id": "2fba4044-5b12-403f-800b-af6876b467ae",
   "metadata": {},
   "outputs": [],
   "source": []
  }
 ],
 "metadata": {
  "kernelspec": {
   "display_name": "Python 3",
   "language": "python",
   "name": "python3"
  },
  "language_info": {
   "codemirror_mode": {
    "name": "ipython",
    "version": 3
   },
   "file_extension": ".py",
   "mimetype": "text/x-python",
   "name": "python",
   "nbconvert_exporter": "python",
   "pygments_lexer": "ipython3",
   "version": "3.8.8"
  }
 },
 "nbformat": 4,
 "nbformat_minor": 5
}
